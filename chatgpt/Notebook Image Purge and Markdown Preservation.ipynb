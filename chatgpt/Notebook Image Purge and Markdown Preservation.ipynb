{
 "cells": [
  {
   "cell_type": "code",
   "execution_count": 22,
   "id": "b19bce11-0d07-4d65-a2d0-41e63546d842",
   "metadata": {},
   "outputs": [
    {
     "name": "stderr",
     "output_type": "stream",
     "text": [
      "C:\\Program Files\\ArcGIS\\Pro\\bin\\Python\\envs\\arcgispro-py3\\lib\\site-packages\\nbformat\\__init__.py:92: MissingIDFieldWarning: Code cell is missing an id field, this will become a hard error in future nbformat versions. You may want to use `normalize()` on your notebooks before validations (available since nbformat 5.1.4). Previous versions of nbformat are fixing this issue transparently, and will stop doing so in the future.\n",
      "  validate(nb)\n"
     ]
    }
   ],
   "source": [
    "import nbformat\n",
    "from nbconvert import PythonExporter\n",
    "import os\n",
    "import re\n",
    "\n",
    "def remove_images_from_markdown(cell):\n",
    "    if cell['cell_type'] == 'markdown':\n",
    "        # Regular expression to find <img> tags with base64 encoded images\n",
    "        pattern = r\"(#?\\s*<img [^>]*>)|(#?\\s*<image [^>]*>)|(#?\\s*\\!\\[.*?\\]\\(data:image\\/(png|jpeg);base64,[^)]*\\))\"\n",
    "        cell['source'] = re.sub(pattern, '', cell['source'])\n",
    "    return cell\n",
    "\n",
    "def process_notebook(file_path):\n",
    "    with open(file_path, 'r', encoding='utf-8') as file:\n",
    "        notebook = nbformat.read(file, as_version=4)\n",
    "\n",
    "    # Process each cell\n",
    "    processed_cells = [remove_images_from_markdown(cell) for cell in notebook['cells']]\n",
    "    notebook['cells'] = processed_cells\n",
    "\n",
    "    # Convert to Python file\n",
    "    exporter = PythonExporter()\n",
    "    python_code, _ = exporter.from_notebook_node(notebook)\n",
    "\n",
    "    return python_code\n",
    "\n",
    "def main():\n",
    "    directory = r\"C:\\Users\\mcveydb\\Downloads\\arcgis-python-api-master\\samples\\04_gis_analysts_data_scientists\"\n",
    "    directory = r\"C:\\Users\\mcveydb\\Downloads\\arcgis-python-api-master\\samples\\03_org_administrators\"\n",
    "    for file in os.listdir(directory):\n",
    "        if file.endswith('.ipynb'):\n",
    "            file_path = os.path.join(directory, file)\n",
    "            python_code = process_notebook(file_path)\n",
    "            # Write the Python code to a .py file\n",
    "            with open(file_path.replace('.ipynb', '.py'), 'w', encoding='utf-8') as py_file:\n",
    "                py_file.write(python_code)\n",
    "main()\n"
   ]
  },
  {
   "cell_type": "code",
   "execution_count": 24,
   "id": "28ed6b7e-ae28-4847-bfa2-c29691458134",
   "metadata": {},
   "outputs": [
    {
     "name": "stdout",
     "output_type": "stream",
     "text": [
      "All .py files in C:\\Users\\mcveydb\\Downloads\\arcgis-python-api-master\\samples\\03_org_administrators have been zipped into C:\\Users\\mcveydb\\Downloads\\arcgis-python-api-master\\samples\\03_org_administrators\\pyfiles.zip\n"
     ]
    }
   ],
   "source": [
    "import os\n",
    "import zipfile\n",
    "\n",
    "def zip_py_files(directory, zip_filename):\n",
    "    with zipfile.ZipFile(zip_filename, 'w', zipfile.ZIP_DEFLATED) as zipf:\n",
    "        for root, dirs, files in os.walk(directory):\n",
    "            for file in files:\n",
    "                if file.endswith('.py'):\n",
    "                    file_path = os.path.join(root, file)\n",
    "                    zipf.write(file_path, os.path.relpath(file_path, start=directory))\n",
    "\n",
    "def main():\n",
    "    \n",
    "    directory = r\"C:\\Users\\mcveydb\\Downloads\\arcgis-python-api-master\\samples\\04_gis_analysts_data_scientists\"\n",
    "    directory = r\"C:\\Users\\mcveydb\\Downloads\\arcgis-python-api-master\\samples\\03_org_administrators\"\n",
    "\n",
    "    zip_filename = os.path.join(directory,\"pyfiles.zip\")\n",
    "    extract_to_directory = zip_filename.rstrip('.zip')  # Directory to extract to\n",
    "\n",
    "    zip_py_files(directory, zip_filename)\n",
    "    # Extract the ZIP file\n",
    "    with zipfile.ZipFile(zip_filename, 'r') as zip_ref:\n",
    "        zip_ref.extractall(extract_to_directory)\n",
    "\n",
    "    print(f\"All .py files in {directory} have been zipped into {zip_filename}\")\n",
    "\n",
    "main()\n"
   ]
  },
  {
   "cell_type": "code",
   "execution_count": 25,
   "id": "0644a7c0-49bb-41d7-b4b7-ad0cf6171899",
   "metadata": {},
   "outputs": [
    {
     "name": "stdout",
     "output_type": "stream",
     "text": [
      "Book created at C:\\Users\\mcveydb\\Downloads\\arcgis-python-api-master\\samples\\03_org_administrators\\pyfiles\\book.txt\n"
     ]
    }
   ],
   "source": [
    "import os\n",
    "\n",
    "def create_book_from_scripts(directory, output_file):\n",
    "    with open(output_file, 'w', encoding='utf-8') as outfile:\n",
    "        for filename in sorted(os.listdir(directory)):\n",
    "            if filename.endswith('.py'):\n",
    "                file_path = os.path.join(directory, filename)\n",
    "\n",
    "                # Writing a header for each script\n",
    "                outfile.write(f\"\\n\\n# {'='*20}\\n# {filename}\\n# {'='*20}\\n\\n\")\n",
    "\n",
    "                # Appending the content of the script\n",
    "                with open(file_path, 'r', encoding='utf-8') as infile:\n",
    "                    outfile.write(infile.read())\n",
    "\n",
    "def main():\n",
    "    directory = r\"C:\\Users\\mcveydb\\Downloads\\arcgis-python-api-master\\samples\\04_gis_analysts_data_scientists\\pyfiles\"\n",
    "    directory = os.path.join(r\"C:\\Users\\mcveydb\\Downloads\\arcgis-python-api-master\\samples\\03_org_administrators\",\"pyfiles\")\n",
    "    output_file = os.path.join(directory,\"book.txt\")\n",
    "\n",
    "    create_book_from_scripts(directory, output_file)\n",
    "    print(f\"Book created at {output_file}\")\n",
    "\n",
    "main()\n"
   ]
  }
 ],
 "metadata": {
  "kernelspec": {
   "display_name": "Python 3 (ipykernel)",
   "language": "python",
   "name": "python3"
  },
  "language_info": {
   "codemirror_mode": {
    "name": "ipython",
    "version": 3
   },
   "file_extension": ".py",
   "mimetype": "text/x-python",
   "name": "python",
   "nbconvert_exporter": "python",
   "pygments_lexer": "ipython3",
   "version": "3.9.18"
  }
 },
 "nbformat": 4,
 "nbformat_minor": 5
}
