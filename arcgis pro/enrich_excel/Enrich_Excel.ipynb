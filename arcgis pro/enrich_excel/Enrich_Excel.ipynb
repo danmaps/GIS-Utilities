{
 "cells": [
  {
   "cell_type": "markdown",
   "metadata": {},
   "source": [
    "This script is designed to enrich an Excel file with data from an ArcGIS Online feature service. The purpose of the script is to perform a join operation between the data in the Excel file and the data in the feature service, and then save the result to a new Excel file.\n",
    "\n",
    "- parametrerize\n",
    "- make atbx\n",
    "- test"
   ]
  },
  {
   "cell_type": "code",
   "execution_count": 94,
   "metadata": {},
   "outputs": [
    {
     "name": "stdout",
     "output_type": "stream",
     "text": [
      "DataFrame for layer 0 (cGIS Distribution Circuits GG Concat):\n",
      "Description: \n",
      "Fields and their properties:\n",
      "OBJECTID                Int64\n",
      "CITY                   string\n",
      "COMPUTED_LENGTH       Float64\n",
      "E_SWITCHING_CENTER     string\n",
      "SYS_STATUS             string\n",
      "                       ...   \n",
      "ID_FEEDER               Int32\n",
      "MAP3D_CIRCUIT_NAME     string\n",
      "CIRCUIT_OH_UG          string\n",
      "Shape__Length         Float64\n",
      "GlobalID               string\n",
      "Length: 82, dtype: object\n"
     ]
    }
   ],
   "source": [
    "# inspect the layers associated with an item id\n",
    "\n",
    "import pandas as pd\n",
    "from arcgis.features import FeatureLayer\n",
    "from arcgis.gis import GIS\n",
    "\n",
    "def get_item_dfs(item_id):\n",
    "    gis = GIS(\"home\")\n",
    "\n",
    "    # Get the item by its ID\n",
    "    item = gis.content.get(item_id)\n",
    "\n",
    "    # If the item is found and it's a feature service, convert each layer to a DataFrame\n",
    "    if item and item.type == \"Feature Service\":\n",
    "        dfs = []\n",
    "        for i in range(len(item.layers)):\n",
    "            layer = FeatureLayer(item.url + f\"/{i}\")\n",
    "            sdf = layer.query().sdf\n",
    "            df = sdf.drop(columns=['SHAPE'])\n",
    "            dfs.append((layer.properties.name, layer.properties.description, df))\n",
    "        return dfs\n",
    "\n",
    "    # If the item is not found or it's not a feature service, return None\n",
    "    return None\n",
    "\n",
    "# Call the function with an example\n",
    "dfs = get_item_dfs('a8147954b9ac4e9cb717f344b1d87b70')\n",
    "\n",
    "# If DataFrames are returned, print the fields and their properties of each one\n",
    "if dfs is not None:\n",
    "    for i, (name, description, df) in enumerate(dfs):\n",
    "        print(f\"DataFrame for layer {i} ({name}):\")\n",
    "        print(f\"Description: {description}\")\n",
    "        print(\"Fields and their properties:\")\n",
    "        print(df.dtypes)\n",
    "\n"
   ]
  },
  {
   "cell_type": "code",
   "execution_count": 95,
   "metadata": {},
   "outputs": [
    {
     "name": "stdout",
     "output_type": "stream",
     "text": [
      "https://services5.arcgis.com/z6hI6KRjKHvhNO0r/arcgis/rest/services/cGIS_Distribution_Circuits_GG_Concat/FeatureServer/0\n"
     ]
    }
   ],
   "source": [
    "# get the url from an item id and layer index\n",
    "\n",
    "from arcgis.gis import GIS\n",
    "\n",
    "def get_layer_url(item_id,i):\n",
    "    gis = GIS(\"home\")\n",
    "\n",
    "    # Get the item by its ID\n",
    "    item = gis.content.get(item_id)\n",
    "\n",
    "    # If the item is found, return its URL with a 0 to refer to the first layer\n",
    "    if item and item.type == \"Feature Service\":\n",
    "        return item.url + f\"/{i}\"\n",
    "\n",
    "    # If the item is not found, return None\n",
    "    return None\n",
    "\n",
    "item_url = get_layer_url('a8147954b9ac4e9cb717f344b1d87b70',0) # cGIS Transmission Lines (GG CONCAT)\n",
    "print(item_url)\n"
   ]
  },
  {
   "cell_type": "markdown",
   "metadata": {},
   "source": [
    "```python\n",
    "def enrich_excel(excel_file, in_join_field, spatial_layer_url, join_table_field, fields_to_add=None, output_file=None):\n",
    "```\n",
    "\n",
    "This function enriches an Excel file with additional data from a spatial layer and saves the result to a new Excel file. The function performs a join operation between the data in the Excel file and the spatial layer based on specified fields.\n",
    "\n",
    "**Parameters:**\n",
    "\n",
    "- `excel_file` (str): The path to the Excel file that you want to enrich. This file should be in .xlsx format.\n",
    "\n",
    "- `in_join_field` (str): The name of the field in the Excel file that will be used for the join operation. This field should contain unique identifiers that match those in the `join_table_field` of the spatial layer.\n",
    "\n",
    "- `spatial_layer_url` (str): The URL of the spatial layer that contains the additional data you want to add to the Excel file. This should be a valid URL of a feature service.\n",
    "\n",
    "- `join_table_field` (str): The name of the field in the spatial layer that will be used for the join operation. This field should contain unique identifiers that match those in the `in_join_field` of the Excel file.\n",
    "\n",
    "- `fields_to_add` (list, optional): A list of field names from the spatial layer that you want to add to the Excel file. If this parameter is not provided, all fields from the spatial layer will be added.\n",
    "\n",
    "- `output_file` (str, optional): The name of the output Excel file. If this parameter is not provided, a default name will be created based on your input Excel file and the fields you're adding.\n",
    "\n",
    "**Returns:**\n",
    "\n",
    "- str: The path to the enriched Excel file.\n",
    "\n",
    "**Example usage:**\n",
    "\n",
    "```python\n",
    "enriched_excel = enrich_excel('example.xlsx', 'FLOC', get_item_url('a8147954b9ac4e9cb717f344b1d87b70'), 'SCE_FLOC', ['CIRCUIT_NAME', 'CIRCUIT_NO'])\n",
    "```\n",
    "\n",
    "In this example, 'example.xlsx' is enriched with data from a spatial layer at a given URL. The join operation is performed based on 'FLOC' field in 'example.xlsx' and 'SCE_FLOC' field in the spatial layer. Only 'CIRCUIT_NAME' and 'CIRCUIT_NO' fields from the spatial layer are added to 'example.xlsx'. The result is saved as 'example_enriched_with_CIRCUIT_NAME_CIRCUIT_NO.xlsx'."
   ]
  },
  {
   "cell_type": "code",
   "execution_count": 91,
   "metadata": {},
   "outputs": [],
   "source": [
    "import pandas as pd\n",
    "from arcgis.features import FeatureLayer\n",
    "\n",
    "def enrich_excel(excel_file, in_join_field, spatial_layer_url, join_table_field, fields_to_add=None, output_file=None):\n",
    "    # Read the Excel file into a DataFrame\n",
    "    df = pd.read_excel(excel_file)\n",
    "\n",
    "    # Query the feature service to get a SpatialDataFrame\n",
    "    sdf = FeatureLayer(spatial_layer_url).query().sdf\n",
    "\n",
    "    # Perform the join operation\n",
    "    result = pd.merge(df, sdf, left_on=in_join_field, right_on=join_table_field)\n",
    "\n",
    "    # If specific fields are provided, select only those fields from the result\n",
    "    if fields_to_add is not None:\n",
    "        result = result[df.columns.tolist() + fields_to_add]\n",
    "\n",
    "    # Drop duplicate records\n",
    "    result = result.drop_duplicates()\n",
    "\n",
    "    # If no output file name is provided, create a default one\n",
    "    if output_file is None:\n",
    "        base_name = excel_file.rsplit('.', 1)[0]\n",
    "        fields_str = '_'.join(fields_to_add) if fields_to_add else 'all_fields'\n",
    "        output_file = f\"{base_name}_enriched_with_{fields_str}.xlsx\"\n",
    "\n",
    "    # Save the DataFrame to an Excel file\n",
    "    result.to_excel(output_file, index=False)\n",
    "\n",
    "    # Return the enriched Excel file\n",
    "    return output_file\n",
    "\n",
    "# Call the function with an example\n",
    "enriched_excel = enrich_excel('example.xlsx', 'FLOC', get_item_url('a8147954b9ac4e9cb717f344b1d87b70'), 'SCE_FLOC', ['CIRCUIT_NAME', 'CIRCUIT_NO'])"
   ]
  }
 ],
 "metadata": {
  "kernelspec": {
   "display_name": "ArcGISPro",
   "language": "Python",
   "name": "python3"
  },
  "language_info": {
   "file_extension": ".py",
   "name": "python",
   "version": "3"
  }
 },
 "nbformat": 4,
 "nbformat_minor": 2
}
