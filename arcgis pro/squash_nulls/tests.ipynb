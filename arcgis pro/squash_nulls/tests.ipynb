{
 "cells": [
  {
   "cell_type": "code",
   "execution_count": 16,
   "id": "0b528e38-31fe-494f-9e97-a54423e5fc24",
   "metadata": {},
   "outputs": [
    {
     "name": "stdout",
     "output_type": "stream",
     "text": [
      "looking at field: TestField\n",
      "unique values: {'some data'}\n",
      "Pass\n",
      "Before:\n"
     ]
    },
    {
     "data": {
      "text/html": [
       "<div>\n",
       "<style scoped>\n",
       "    .dataframe tbody tr th:only-of-type {\n",
       "        vertical-align: middle;\n",
       "    }\n",
       "\n",
       "    .dataframe tbody tr th {\n",
       "        vertical-align: top;\n",
       "    }\n",
       "\n",
       "    .dataframe thead th {\n",
       "        text-align: right;\n",
       "    }\n",
       "</style>\n",
       "<table border=\"1\" class=\"dataframe\">\n",
       "  <thead>\n",
       "    <tr style=\"text-align: right;\">\n",
       "      <th></th>\n",
       "      <th>TestField</th>\n",
       "    </tr>\n",
       "  </thead>\n",
       "  <tbody>\n",
       "    <tr>\n",
       "      <th>0</th>\n",
       "      <td>None</td>\n",
       "    </tr>\n",
       "    <tr>\n",
       "      <th>1</th>\n",
       "      <td>some data</td>\n",
       "    </tr>\n",
       "    <tr>\n",
       "      <th>2</th>\n",
       "      <td>None</td>\n",
       "    </tr>\n",
       "  </tbody>\n",
       "</table>\n",
       "</div>"
      ],
      "text/plain": [
       "   TestField\n",
       "0       None\n",
       "1  some data\n",
       "2       None"
      ]
     },
     "metadata": {},
     "output_type": "display_data"
    },
    {
     "name": "stdout",
     "output_type": "stream",
     "text": [
      "After:\n"
     ]
    },
    {
     "data": {
      "text/html": [
       "<div>\n",
       "<style scoped>\n",
       "    .dataframe tbody tr th:only-of-type {\n",
       "        vertical-align: middle;\n",
       "    }\n",
       "\n",
       "    .dataframe tbody tr th {\n",
       "        vertical-align: top;\n",
       "    }\n",
       "\n",
       "    .dataframe thead th {\n",
       "        text-align: right;\n",
       "    }\n",
       "</style>\n",
       "<table border=\"1\" class=\"dataframe\">\n",
       "  <thead>\n",
       "    <tr style=\"text-align: right;\">\n",
       "      <th></th>\n",
       "      <th>TestField</th>\n",
       "    </tr>\n",
       "  </thead>\n",
       "  <tbody>\n",
       "    <tr>\n",
       "      <th>0</th>\n",
       "      <td>some data</td>\n",
       "    </tr>\n",
       "    <tr>\n",
       "      <th>1</th>\n",
       "      <td>some data</td>\n",
       "    </tr>\n",
       "    <tr>\n",
       "      <th>2</th>\n",
       "      <td>some data</td>\n",
       "    </tr>\n",
       "  </tbody>\n",
       "</table>\n",
       "</div>"
      ],
      "text/plain": [
       "   TestField\n",
       "0  some data\n",
       "1  some data\n",
       "2  some data"
      ]
     },
     "metadata": {},
     "output_type": "display_data"
    }
   ],
   "source": [
    "import fill_selected\n",
    "import arcpy\n",
    "from IPython.display import display\n",
    "import pandas as pd\n",
    "\n",
    "arcpy.env.overwriteOutput = True\n",
    "\n",
    "def feature_class_to_dataframe(fc, field):\n",
    "    data = [row for row in arcpy.da.SearchCursor(fc, field)]\n",
    "    return pd.DataFrame(data, columns=[field])\n",
    "\n",
    "def test_squash_nulls():\n",
    "    # Create a temporary feature class in the memory workspace\n",
    "    temp_fc = r\"memory\\temp_fc\" # try memory instead of legacy in_memory\n",
    "    arcpy.management.CreateFeatureclass(\"memory\", \"temp_fc\", \"POINT\")\n",
    "    \n",
    "    # Add a field to the feature class\n",
    "    field_name = \"TestField\"\n",
    "    arcpy.management.AddField(temp_fc, field_name, \"TEXT\")\n",
    "    \n",
    "    # Insert rows into the feature class\n",
    "    with arcpy.da.InsertCursor(temp_fc, [\"SHAPE@\", field_name]) as cursor:\n",
    "        cursor.insertRow([(0, 0), None])\n",
    "        cursor.insertRow([(1, 1), \"some data\"])\n",
    "        cursor.insertRow([(2, 2), None])\n",
    "    \n",
    "    df_before = feature_class_to_dataframe(temp_fc, field_name)\n",
    "    \n",
    "    # Call the function\n",
    "    fill_selected.squash_nulls(temp_fc, field_name)\n",
    "    \n",
    "    df_after = feature_class_to_dataframe(temp_fc, field_name)\n",
    "    \n",
    "    # Check that the null values have been filled with \"value\"\n",
    "    with arcpy.da.SearchCursor(temp_fc, [field_name]) as cursor:\n",
    "        for row in cursor:\n",
    "            assert row[0] == \"some data\"\n",
    "    \n",
    "    print(\"Pass\")\n",
    "    \n",
    "    return df_before, df_after\n",
    "\n",
    "\n",
    "df_before, df_after = test_squash_nulls()\n",
    "print(\"Before:\")\n",
    "display(df_before)\n",
    "print(\"After:\")\n",
    "display(df_after)\n"
   ]
  }
 ],
 "metadata": {
  "kernelspec": {
   "display_name": "Python 3 (ipykernel)",
   "language": "python",
   "name": "python3"
  },
  "language_info": {
   "codemirror_mode": {
    "name": "ipython",
    "version": 3
   },
   "file_extension": ".py",
   "mimetype": "text/x-python",
   "name": "python",
   "nbconvert_exporter": "python",
   "pygments_lexer": "ipython3",
   "version": "3.9.16"
  }
 },
 "nbformat": 4,
 "nbformat_minor": 5
}
