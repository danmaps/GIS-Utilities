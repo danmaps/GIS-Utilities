{
 "cells": [
  {
   "cell_type": "code",
   "execution_count": 1,
   "metadata": {},
   "outputs": [
    {
     "name": "stdout",
     "output_type": "stream",
     "text": [
      "Merged GeoJSON saved to: C:\\Users\\mcveydb\\dev\\GIS-Utilities\\src\\arcgis pro\\geojson\\merged\\merged_output.geojson\n",
      "Lines saved to: C:\\Users\\mcveydb\\dev\\GIS-Utilities\\src\\arcgis pro\\geojson\\merged\\lines_output.geojson\n"
     ]
    }
   ],
   "source": [
    "import geopandas as gpd\n",
    "import pandas as pd\n",
    "import os\n",
    "\n",
    "# Set the folder path where your GeoJSON files are located\n",
    "folder_path = r\"C:\\Users\\mcveydb\\dev\\GIS-Utilities\\src\\arcgis pro\\geojson\"\n",
    "\n",
    "# List to hold GeoDataFrames\n",
    "gdfs = []\n",
    "\n",
    "# Loop through all files in the folder and read GeoJSON files\n",
    "for file in os.listdir(folder_path):\n",
    "    if file.endswith(\".geojson\"):\n",
    "        file_path = os.path.join(folder_path, file)\n",
    "        gdf = gpd.read_file(file_path)\n",
    "        gdfs.append(gdf)\n",
    "\n",
    "# Concatenate all GeoDataFrames into one\n",
    "merged_gdf = gpd.GeoDataFrame(pd.concat(gdfs, ignore_index=True))\n",
    "\n",
    "# Optional: Split geometries by type\n",
    "points = merged_gdf[merged_gdf.geometry.type == 'Point']\n",
    "lines = merged_gdf[merged_gdf.geometry.type == 'LineString']\n",
    "multilines = merged_gdf[merged_gdf.geometry.type == 'MultiLineString']\n",
    "polygons = merged_gdf[merged_gdf.geometry.type == 'Polygon']\n",
    "\n",
    "# append multilines to lines\n",
    "lines = lines.append(multilines)\n",
    "\n",
    "# Save each geometry type to a separate file (if needed)\n",
    "output_folder = r\"C:\\Users\\mcveydb\\dev\\GIS-Utilities\\src\\arcgis pro\\geojson\\merged\"\n",
    "points_output_file = os.path.join(output_folder, \"points_output.geojson\")\n",
    "lines_output_file = os.path.join(output_folder, \"lines_output.geojson\")\n",
    "polygons_output_file = os.path.join(output_folder, \"polygons_output.geojson\")\n",
    "\n",
    "# Write each geometry type to a separate GeoJSON file\n",
    "if not points.empty:\n",
    "    points.to_file(points_output_file, driver=\"GeoJSON\")\n",
    "if not lines.empty:\n",
    "    lines.to_file(lines_output_file, driver=\"GeoJSON\")\n",
    "if not polygons.empty:\n",
    "    polygons.to_file(polygons_output_file, driver=\"GeoJSON\")\n",
    "\n",
    "# Also save the full merged GeoJSON containing all geometries\n",
    "merged_output_file = os.path.join(output_folder, \"merged_output.geojson\")\n",
    "merged_gdf.to_file(merged_output_file, driver=\"GeoJSON\")\n",
    "\n",
    "print(f\"Merged GeoJSON saved to: {merged_output_file}\")\n",
    "if not points.empty:\n",
    "    print(f\"Points saved to: {points_output_file}\")\n",
    "if not lines.empty:\n",
    "    print(f\"Lines saved to: {lines_output_file}\")\n",
    "if not polygons.empty:\n",
    "    print(f\"Polygons saved to: {polygons_output_file}\")\n"
   ]
  }
 ],
 "metadata": {
  "language_info": {
   "name": "python"
  }
 },
 "nbformat": 4,
 "nbformat_minor": 2
}
