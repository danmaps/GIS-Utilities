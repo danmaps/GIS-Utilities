{
 "cells": [
  {
   "cell_type": "code",
   "execution_count": 1,
   "metadata": {},
   "outputs": [],
   "source": [
    "import arcpy\n",
    "import os\n",
    "\n",
    "def join_feature_classes2(input_fc1, join_field_fc1, input_fc2, join_field_fc2, output_fc, unmatched_output=None):\n",
    "    arcpy.env.overwriteOutput = True\n",
    "    arcpy.env.qualifiedFieldNames = False\n",
    "    \n",
    "    # Perform the join\n",
    "    joined = arcpy.management.AddJoin(input_fc1, join_field_fc1, input_fc2, join_field_fc2)\n",
    "    \n",
    "    # Copy the joined result to a new feature class\n",
    "    arcpy.management.CopyFeatures(joined, output_fc)\n",
    "    \n",
    "    # Count the total number of records\n",
    "    total_count = int(arcpy.management.GetCount(input_fc1)[0])\n",
    "    \n",
    "    # Use Statistics_analysis to quickly count non-null matches\n",
    "    match_table = \"memory\\\\match_table\"\n",
    "    arcpy.analysis.Statistics(output_fc, match_table, [[join_field_fc2, \"COUNT\"]], join_field_fc2)\n",
    "    matched_count = int(arcpy.management.GetCount(match_table)[0])\n",
    "    \n",
    "    # Calculate the match percentage\n",
    "    match_percentage = (matched_count / total_count) * 100\n",
    "    \n",
    "    print(f\"Total records in {input_fc1}: {total_count}\")\n",
    "    print(f\"Number of matched records: {matched_count}\")\n",
    "    print(f\"Match percentage: {match_percentage:.2f}%\")\n",
    "    \n",
    "    # If requested, save unmatched features\n",
    "    if unmatched_output:\n",
    "        # Get unmatched records using a selection query\n",
    "        unmatched_fc = \"in_memory\\\\unmatched_fc\"\n",
    "        arcpy.management.MakeFeatureLayer(output_fc, \"lyr\")\n",
    "        arcpy.management.SelectLayerByAttribute(\"lyr\", \"NEW_SELECTION\", f\"{join_field_fc2} IS NULL\")\n",
    "        arcpy.management.CopyFeatures(\"lyr\", unmatched_fc)\n",
    "        \n",
    "        # Save to the desired format\n",
    "        desc = arcpy.Describe(input_fc2)\n",
    "        if desc.dataType in [\"FeatureClass\", \"Table\"]:\n",
    "            arcpy.management.CopyRows(unmatched_fc, unmatched_output)\n",
    "        elif desc.dataType == \"TextFile\" or unmatched_output.endswith('.csv'):\n",
    "            arcpy.TableToTable_conversion(unmatched_fc, os.path.dirname(unmatched_output), os.path.basename(unmatched_output))\n",
    "        \n",
    "        print(f\"Unmatched features saved to {unmatched_output}\")\n",
    "    \n",
    "    print(\"Function completed successfully.\")\n",
    "\n"
   ]
  },
  {
   "cell_type": "code",
   "execution_count": 3,
   "metadata": {},
   "outputs": [],
   "source": [
    "import datetime\n",
    "\n",
    "join_feature_classes2(\n",
    "    input_fc1=r\"C:\\data\\DM_ALL_STRUCS.gdb\\OH_DM_ALL_STRUCS_0805\",\n",
    "    join_field_fc1='SAP_FLOC_ID',\n",
    "    input_fc2=r\"C:\\Users\\mcveydb\\Projects\\local_problem_statements\\Default.gdb\\DR_IGPEP3Notifications\",\n",
    "    join_field_fc2='Floc',\n",
    "    output_fc=fr\"C:\\Users\\mcveydb\\Projects\\local_problem_statements\\subset.gdb\\output_feature_class_{datetime.datetime.now().strftime('%Y%m%d_%H%M%S')}\",\n",
    "    unmatched_output=fr\"C:\\Users\\mcveydb\\Projects\\local_problem_statements\\subset.gdb\\unmatched_output_{datetime.datetime.now().strftime('%Y%m%d_%H%M%S')}\",\n",
    ")\n",
    "\n"
   ]
  }
 ],
 "metadata": {
  "language_info": {
   "name": "python"
  }
 },
 "nbformat": 4,
 "nbformat_minor": 2
}
