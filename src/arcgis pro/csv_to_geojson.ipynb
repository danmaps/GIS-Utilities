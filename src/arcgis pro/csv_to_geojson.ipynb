{
 "cells": [
  {
   "cell_type": "code",
   "execution_count": 1,
   "metadata": {},
   "outputs": [
    {
     "name": "stderr",
     "output_type": "stream",
     "text": [
      "C:\\Users\\mcveydb\\AppData\\Local\\Packages\\PythonSoftwareFoundation.Python.3.11_qbz5n2kfra8p0\\LocalCache\\local-packages\\Python311\\site-packages\\pyogrio\\raw.py:698: UserWarning: 'crs' was not provided.  The output dataset will not have projection information defined and may not be usable in other systems.\n",
      "  warnings.warn(\n"
     ]
    },
    {
     "name": "stdout",
     "output_type": "stream",
     "text": [
      "Merged GeoJSON saved to: C:\\Users\\mcveydb\\Downloads\\merged_output.geojson\n"
     ]
    }
   ],
   "source": [
    "import geopandas as gpd\n",
    "from shapely.geometry import shape\n",
    "import pandas as pd\n",
    "import json\n",
    "import os\n",
    "\n",
    "df = pd.read_csv(r\"C:\\Users\\mcveydb\\Downloads\\beverly_hills_circuits.csv\")\n",
    "\n",
    "# List to hold all GeoDataFrames\n",
    "gdfs = []\n",
    "\n",
    "# Function to create GeoDataFrames with all attributes and geometries\n",
    "def create_geo_dataframe(row):\n",
    "    # Extract geometries\n",
    "    if type(row['aggregate_geometry']) == str:\n",
    "        aggregate_geometry = shape(json.loads(row['aggregate_geometry']))\n",
    "    else:\n",
    "        aggregate_geometry = row['aggregate_geometry']\n",
    "    \n",
    "    if type(row['buffer_geometry']) == str:\n",
    "        buffer_geometry = shape(json.loads(row['buffer_geometry']))\n",
    "    else:\n",
    "        buffer_geometry = row['buffer_geometry']\n",
    "    \n",
    "    if type(row['gesw_segment_geometry']) == str:\n",
    "        gesw_segment_geometry = shape(json.loads(row['gesw_segment_geometry']))\n",
    "    else:\n",
    "        gesw_segment_geometry = row['gesw_segment_geometry']\n",
    "    \n",
    "    # Create GeoDataFrames for each geometry type, including all attributes in the row\n",
    "    gdf_aggregate = gpd.GeoDataFrame([row], geometry=[aggregate_geometry], index=[row['igpe_section_name']])\n",
    "    gdf_buffer = gpd.GeoDataFrame([row], geometry=[buffer_geometry], index=[row['igpe_section_name']])\n",
    "    gdf_gesw = gpd.GeoDataFrame([row], geometry=[gesw_segment_geometry], index=[row['igpe_section_name']])\n",
    "    \n",
    "    # Append to the list of GeoDataFrames\n",
    "    gdfs.extend([gdf_aggregate, gdf_buffer, gdf_gesw])\n",
    "\n",
    "# Apply the function to each row\n",
    "df.apply(create_geo_dataframe, axis=1)\n",
    "\n",
    "# Concatenate all the GeoDataFrames into one\n",
    "merged_gdf = gpd.GeoDataFrame(pd.concat(gdfs, ignore_index=True))\n",
    "\n",
    "# Save the merged GeoDataFrame to a single GeoJSON file\n",
    "output_file = r\"C:\\Users\\mcveydb\\Downloads\\merged_output.geojson\"\n",
    "merged_gdf.to_file(output_file, driver='GeoJSON')\n",
    "\n",
    "print(f\"Merged GeoJSON saved to: {output_file}\")\n"
   ]
  }
 ],
 "metadata": {
  "language_info": {
   "name": "python"
  }
 },
 "nbformat": 4,
 "nbformat_minor": 2
}
