{
 "cells": [
  {
   "cell_type": "code",
   "execution_count": 1,
   "id": "a5bf9f54-47de-4b63-a9f6-036018cab48a",
   "metadata": {
    "scrolled": true
   },
   "outputs": [
    {
     "ename": "gaierror",
     "evalue": "[Errno 11001] getaddrinfo failed",
     "output_type": "error",
     "traceback": [
      "\u001b[1;31m---------------------------------------------------------------------------\u001b[0m",
      "\u001b[1;31mgaierror\u001b[0m                                  Traceback (most recent call last)",
      "Cell \u001b[1;32mIn[1], line 14\u001b[0m\n\u001b[0;32m      1\u001b[0m \u001b[38;5;28;01mimport\u001b[39;00m \u001b[38;5;21;01msaspy\u001b[39;00m\n\u001b[0;32m      3\u001b[0m \u001b[38;5;66;03m# Define the configuration for SAS Viya\u001b[39;00m\n\u001b[0;32m      4\u001b[0m \u001b[38;5;66;03m# SAS_config_names = ['httpsviya']\u001b[39;00m\n\u001b[0;32m      5\u001b[0m \n\u001b[1;32m   (...)\u001b[0m\n\u001b[0;32m     12\u001b[0m \n\u001b[0;32m     13\u001b[0m \u001b[38;5;66;03m# Connect to SAS Viya\u001b[39;00m\n\u001b[1;32m---> 14\u001b[0m sas \u001b[38;5;241m=\u001b[39m \u001b[43msaspy\u001b[49m\u001b[38;5;241;43m.\u001b[39;49m\u001b[43mSASsession\u001b[49m\u001b[43m(\u001b[49m\u001b[43mcfgname\u001b[49m\u001b[38;5;241;43m=\u001b[39;49m\u001b[38;5;124;43m'\u001b[39;49m\u001b[38;5;124;43mhttpsviya\u001b[39;49m\u001b[38;5;124;43m'\u001b[39;49m\u001b[43m)\u001b[49m\n\u001b[0;32m     16\u001b[0m \u001b[38;5;66;03m# Example: Run a SAS procedure\u001b[39;00m\n\u001b[0;32m     17\u001b[0m sas_code \u001b[38;5;241m=\u001b[39m \u001b[38;5;124m\"\"\"\u001b[39m\n\u001b[0;32m     18\u001b[0m \u001b[38;5;124mproc print data=sashelp.class;\u001b[39m\n\u001b[0;32m     19\u001b[0m \u001b[38;5;124mrun;\u001b[39m\n\u001b[0;32m     20\u001b[0m \u001b[38;5;124m\"\"\"\u001b[39m\n",
      "File \u001b[1;32m~\\dev\\GIS-Utilities\\src\\arcgis pro\\sas\\sas_env\\Lib\\site-packages\\saspy\\sasbase.py:598\u001b[0m, in \u001b[0;36mSASsession.__init__\u001b[1;34m(self, **kwargs)\u001b[0m\n\u001b[0;32m    596\u001b[0m     \u001b[38;5;28mself\u001b[39m\u001b[38;5;241m.\u001b[39m_io \u001b[38;5;241m=\u001b[39m SASSessionCOM(sascfgname\u001b[38;5;241m=\u001b[39m\u001b[38;5;28mself\u001b[39m\u001b[38;5;241m.\u001b[39msascfg\u001b[38;5;241m.\u001b[39mname, sb\u001b[38;5;241m=\u001b[39m\u001b[38;5;28mself\u001b[39m, \u001b[38;5;241m*\u001b[39m\u001b[38;5;241m*\u001b[39mkwargs)\n\u001b[0;32m    597\u001b[0m \u001b[38;5;28;01melif\u001b[39;00m \u001b[38;5;28mself\u001b[39m\u001b[38;5;241m.\u001b[39msascfg\u001b[38;5;241m.\u001b[39mmode \u001b[38;5;241m==\u001b[39m \u001b[38;5;124m'\u001b[39m\u001b[38;5;124mHTTP\u001b[39m\u001b[38;5;124m'\u001b[39m:\n\u001b[1;32m--> 598\u001b[0m     \u001b[38;5;28mself\u001b[39m\u001b[38;5;241m.\u001b[39m_io \u001b[38;5;241m=\u001b[39m \u001b[43mSASsessionHTTP\u001b[49m\u001b[43m(\u001b[49m\u001b[43msascfgname\u001b[49m\u001b[38;5;241;43m=\u001b[39;49m\u001b[38;5;28;43mself\u001b[39;49m\u001b[38;5;241;43m.\u001b[39;49m\u001b[43msascfg\u001b[49m\u001b[38;5;241;43m.\u001b[39;49m\u001b[43mname\u001b[49m\u001b[43m,\u001b[49m\u001b[43m \u001b[49m\u001b[43msb\u001b[49m\u001b[38;5;241;43m=\u001b[39;49m\u001b[38;5;28;43mself\u001b[39;49m\u001b[43m,\u001b[49m\u001b[43m \u001b[49m\u001b[38;5;241;43m*\u001b[39;49m\u001b[38;5;241;43m*\u001b[39;49m\u001b[43mkwargs\u001b[49m\u001b[43m)\u001b[49m\n\u001b[0;32m    600\u001b[0m \u001b[38;5;28mself\u001b[39m\u001b[38;5;241m.\u001b[39msesstart \u001b[38;5;241m=\u001b[39m time\u001b[38;5;241m.\u001b[39mctime()\n\u001b[0;32m    602\u001b[0m \u001b[38;5;66;03m# gather some session info\u001b[39;00m\n",
      "File \u001b[1;32m~\\dev\\GIS-Utilities\\src\\arcgis pro\\sas\\sas_env\\Lib\\site-packages\\saspy\\sasiohttp.py:751\u001b[0m, in \u001b[0;36mSASsessionHTTP.__init__\u001b[1;34m(self, **kwargs)\u001b[0m\n\u001b[0;32m    749\u001b[0m \u001b[38;5;28mself\u001b[39m\u001b[38;5;241m.\u001b[39m_sb        \u001b[38;5;241m=\u001b[39m kwargs\u001b[38;5;241m.\u001b[39mget(\u001b[38;5;124m'\u001b[39m\u001b[38;5;124msb\u001b[39m\u001b[38;5;124m'\u001b[39m, \u001b[38;5;28;01mNone\u001b[39;00m)\n\u001b[0;32m    750\u001b[0m \u001b[38;5;28mself\u001b[39m\u001b[38;5;241m.\u001b[39m_log       \u001b[38;5;241m=\u001b[39m \u001b[38;5;124m\"\u001b[39m\u001b[38;5;130;01m\\n\u001b[39;00m\u001b[38;5;124mNo SAS session established, something must have failed trying to connect\u001b[39m\u001b[38;5;130;01m\\n\u001b[39;00m\u001b[38;5;124m\"\u001b[39m\n\u001b[1;32m--> 751\u001b[0m \u001b[38;5;28mself\u001b[39m\u001b[38;5;241m.\u001b[39msascfg     \u001b[38;5;241m=\u001b[39m \u001b[43mSASconfigHTTP\u001b[49m\u001b[43m(\u001b[49m\u001b[38;5;28;43mself\u001b[39;49m\u001b[43m,\u001b[49m\u001b[43m \u001b[49m\u001b[38;5;241;43m*\u001b[39;49m\u001b[38;5;241;43m*\u001b[39;49m\u001b[43mkwargs\u001b[49m\u001b[43m)\u001b[49m\n\u001b[0;32m    753\u001b[0m \u001b[38;5;28;01mif\u001b[39;00m \u001b[38;5;28mself\u001b[39m\u001b[38;5;241m.\u001b[39msascfg\u001b[38;5;241m.\u001b[39m_token:\n\u001b[0;32m    754\u001b[0m    \u001b[38;5;28mself\u001b[39m\u001b[38;5;241m.\u001b[39m_startsas()\n",
      "File \u001b[1;32m~\\dev\\GIS-Utilities\\src\\arcgis pro\\sas\\sas_env\\Lib\\site-packages\\saspy\\sasiohttp.py:481\u001b[0m, in \u001b[0;36mSASconfigHTTP.__init__\u001b[1;34m(self, session, **kwargs)\u001b[0m\n\u001b[0;32m    479\u001b[0m \u001b[38;5;28;01mtry\u001b[39;00m:\n\u001b[0;32m    480\u001b[0m    \u001b[38;5;28mself\u001b[39m\u001b[38;5;241m.\u001b[39mREFConn  \u001b[38;5;241m=\u001b[39m hc\u001b[38;5;241m.\u001b[39mHTTPSConnection(\u001b[38;5;28mself\u001b[39m\u001b[38;5;241m.\u001b[39mip, \u001b[38;5;28mself\u001b[39m\u001b[38;5;241m.\u001b[39mport, timeout\u001b[38;5;241m=\u001b[39m\u001b[38;5;28mself\u001b[39m\u001b[38;5;241m.\u001b[39mtimeout, context\u001b[38;5;241m=\u001b[39msslctx)\n\u001b[1;32m--> 481\u001b[0m    \u001b[38;5;28;43mself\u001b[39;49m\u001b[38;5;241;43m.\u001b[39;49m\u001b[43mREFConn\u001b[49m\u001b[38;5;241;43m.\u001b[39;49m\u001b[43mconnect\u001b[49m\u001b[43m(\u001b[49m\u001b[43m)\u001b[49m;  \u001b[38;5;28mself\u001b[39m\u001b[38;5;241m.\u001b[39mREFConn\u001b[38;5;241m.\u001b[39mclose()\n\u001b[0;32m    482\u001b[0m    \u001b[38;5;28mself\u001b[39m\u001b[38;5;241m.\u001b[39mHTTPConn \u001b[38;5;241m=\u001b[39m hc\u001b[38;5;241m.\u001b[39mHTTPSConnection(\u001b[38;5;28mself\u001b[39m\u001b[38;5;241m.\u001b[39mip, \u001b[38;5;28mself\u001b[39m\u001b[38;5;241m.\u001b[39mport, timeout\u001b[38;5;241m=\u001b[39m\u001b[38;5;28mself\u001b[39m\u001b[38;5;241m.\u001b[39mtimeout, context\u001b[38;5;241m=\u001b[39msslctx)\n\u001b[0;32m    483\u001b[0m    \u001b[38;5;28mself\u001b[39m\u001b[38;5;241m.\u001b[39mHTTPConn\u001b[38;5;241m.\u001b[39mconnect(); \u001b[38;5;28mself\u001b[39m\u001b[38;5;241m.\u001b[39mHTTPConn\u001b[38;5;241m.\u001b[39mclose()\n",
      "File \u001b[1;32mC:\\Program Files\\Python312\\Lib\\http\\client.py:1470\u001b[0m, in \u001b[0;36mHTTPSConnection.connect\u001b[1;34m(self)\u001b[0m\n\u001b[0;32m   1467\u001b[0m \u001b[38;5;28;01mdef\u001b[39;00m \u001b[38;5;21mconnect\u001b[39m(\u001b[38;5;28mself\u001b[39m):\n\u001b[0;32m   1468\u001b[0m     \u001b[38;5;124m\"\u001b[39m\u001b[38;5;124mConnect to a host on a given (SSL) port.\u001b[39m\u001b[38;5;124m\"\u001b[39m\n\u001b[1;32m-> 1470\u001b[0m     \u001b[38;5;28;43msuper\u001b[39;49m\u001b[43m(\u001b[49m\u001b[43m)\u001b[49m\u001b[38;5;241;43m.\u001b[39;49m\u001b[43mconnect\u001b[49m\u001b[43m(\u001b[49m\u001b[43m)\u001b[49m\n\u001b[0;32m   1472\u001b[0m     \u001b[38;5;28;01mif\u001b[39;00m \u001b[38;5;28mself\u001b[39m\u001b[38;5;241m.\u001b[39m_tunnel_host:\n\u001b[0;32m   1473\u001b[0m         server_hostname \u001b[38;5;241m=\u001b[39m \u001b[38;5;28mself\u001b[39m\u001b[38;5;241m.\u001b[39m_tunnel_host\n",
      "File \u001b[1;32mC:\\Program Files\\Python312\\Lib\\http\\client.py:1001\u001b[0m, in \u001b[0;36mHTTPConnection.connect\u001b[1;34m(self)\u001b[0m\n\u001b[0;32m    999\u001b[0m \u001b[38;5;250m\u001b[39m\u001b[38;5;124;03m\"\"\"Connect to the host and port specified in __init__.\"\"\"\u001b[39;00m\n\u001b[0;32m   1000\u001b[0m sys\u001b[38;5;241m.\u001b[39maudit(\u001b[38;5;124m\"\u001b[39m\u001b[38;5;124mhttp.client.connect\u001b[39m\u001b[38;5;124m\"\u001b[39m, \u001b[38;5;28mself\u001b[39m, \u001b[38;5;28mself\u001b[39m\u001b[38;5;241m.\u001b[39mhost, \u001b[38;5;28mself\u001b[39m\u001b[38;5;241m.\u001b[39mport)\n\u001b[1;32m-> 1001\u001b[0m \u001b[38;5;28mself\u001b[39m\u001b[38;5;241m.\u001b[39msock \u001b[38;5;241m=\u001b[39m \u001b[38;5;28;43mself\u001b[39;49m\u001b[38;5;241;43m.\u001b[39;49m\u001b[43m_create_connection\u001b[49m\u001b[43m(\u001b[49m\n\u001b[0;32m   1002\u001b[0m \u001b[43m    \u001b[49m\u001b[43m(\u001b[49m\u001b[38;5;28;43mself\u001b[39;49m\u001b[38;5;241;43m.\u001b[39;49m\u001b[43mhost\u001b[49m\u001b[43m,\u001b[49m\u001b[38;5;28;43mself\u001b[39;49m\u001b[38;5;241;43m.\u001b[39;49m\u001b[43mport\u001b[49m\u001b[43m)\u001b[49m\u001b[43m,\u001b[49m\u001b[43m \u001b[49m\u001b[38;5;28;43mself\u001b[39;49m\u001b[38;5;241;43m.\u001b[39;49m\u001b[43mtimeout\u001b[49m\u001b[43m,\u001b[49m\u001b[43m \u001b[49m\u001b[38;5;28;43mself\u001b[39;49m\u001b[38;5;241;43m.\u001b[39;49m\u001b[43msource_address\u001b[49m\u001b[43m)\u001b[49m\n\u001b[0;32m   1003\u001b[0m \u001b[38;5;66;03m# Might fail in OSs that don't implement TCP_NODELAY\u001b[39;00m\n\u001b[0;32m   1004\u001b[0m \u001b[38;5;28;01mtry\u001b[39;00m:\n",
      "File \u001b[1;32mC:\\Program Files\\Python312\\Lib\\socket.py:828\u001b[0m, in \u001b[0;36mcreate_connection\u001b[1;34m(address, timeout, source_address, all_errors)\u001b[0m\n\u001b[0;32m    826\u001b[0m host, port \u001b[38;5;241m=\u001b[39m address\n\u001b[0;32m    827\u001b[0m exceptions \u001b[38;5;241m=\u001b[39m []\n\u001b[1;32m--> 828\u001b[0m \u001b[38;5;28;01mfor\u001b[39;00m res \u001b[38;5;129;01min\u001b[39;00m \u001b[43mgetaddrinfo\u001b[49m\u001b[43m(\u001b[49m\u001b[43mhost\u001b[49m\u001b[43m,\u001b[49m\u001b[43m \u001b[49m\u001b[43mport\u001b[49m\u001b[43m,\u001b[49m\u001b[43m \u001b[49m\u001b[38;5;241;43m0\u001b[39;49m\u001b[43m,\u001b[49m\u001b[43m \u001b[49m\u001b[43mSOCK_STREAM\u001b[49m\u001b[43m)\u001b[49m:\n\u001b[0;32m    829\u001b[0m     af, socktype, proto, canonname, sa \u001b[38;5;241m=\u001b[39m res\n\u001b[0;32m    830\u001b[0m     sock \u001b[38;5;241m=\u001b[39m \u001b[38;5;28;01mNone\u001b[39;00m\n",
      "File \u001b[1;32mC:\\Program Files\\Python312\\Lib\\socket.py:963\u001b[0m, in \u001b[0;36mgetaddrinfo\u001b[1;34m(host, port, family, type, proto, flags)\u001b[0m\n\u001b[0;32m    960\u001b[0m \u001b[38;5;66;03m# We override this function since we want to translate the numeric family\u001b[39;00m\n\u001b[0;32m    961\u001b[0m \u001b[38;5;66;03m# and socket type values to enum constants.\u001b[39;00m\n\u001b[0;32m    962\u001b[0m addrlist \u001b[38;5;241m=\u001b[39m []\n\u001b[1;32m--> 963\u001b[0m \u001b[38;5;28;01mfor\u001b[39;00m res \u001b[38;5;129;01min\u001b[39;00m \u001b[43m_socket\u001b[49m\u001b[38;5;241;43m.\u001b[39;49m\u001b[43mgetaddrinfo\u001b[49m\u001b[43m(\u001b[49m\u001b[43mhost\u001b[49m\u001b[43m,\u001b[49m\u001b[43m \u001b[49m\u001b[43mport\u001b[49m\u001b[43m,\u001b[49m\u001b[43m \u001b[49m\u001b[43mfamily\u001b[49m\u001b[43m,\u001b[49m\u001b[43m \u001b[49m\u001b[38;5;28;43mtype\u001b[39;49m\u001b[43m,\u001b[49m\u001b[43m \u001b[49m\u001b[43mproto\u001b[49m\u001b[43m,\u001b[49m\u001b[43m \u001b[49m\u001b[43mflags\u001b[49m\u001b[43m)\u001b[49m:\n\u001b[0;32m    964\u001b[0m     af, socktype, proto, canonname, sa \u001b[38;5;241m=\u001b[39m res\n\u001b[0;32m    965\u001b[0m     addrlist\u001b[38;5;241m.\u001b[39mappend((_intenum_converter(af, AddressFamily),\n\u001b[0;32m    966\u001b[0m                      _intenum_converter(socktype, SocketKind),\n\u001b[0;32m    967\u001b[0m                      proto, canonname, sa))\n",
      "\u001b[1;31mgaierror\u001b[0m: [Errno 11001] getaddrinfo failed"
     ]
    }
   ],
   "source": [
    "import saspy\n",
    "\n",
    "# Define the configuration for SAS Viya\n",
    "# SAS_config_names = ['httpsviya']\n",
    "\n",
    "# httpsviya = {\n",
    "#     'url': 'https://sce-sasviya.sce.com',\n",
    "#     'context': 'Data Mining compute context',\n",
    "#     'authkey': 'ComputerName',\n",
    "#     'options': [\"fullstimer\", \"memsize=1G\"]\n",
    "# }\n",
    "\n",
    "# Connect to SAS Viya\n",
    "sas = saspy.SASsession(cfgname='httpsviya')\n",
    "\n",
    "# Example: Run a SAS procedure\n",
    "sas_code = \"\"\"\n",
    "proc print data=sashelp.class;\n",
    "run;\n",
    "\"\"\"\n",
    "sas.submit(sas_code)"
   ]
  },
  {
   "cell_type": "code",
   "execution_count": 1,
   "id": "ab272d4d-7e35-4104-8b61-5b746517730e",
   "metadata": {},
   "outputs": [
    {
     "name": "stdout",
     "output_type": "stream",
     "text": [
      "We failed in getConnection\n",
      "The application could not log on to the server \"lyxcpsas01.sce.com:8591\". No server is available at that port on that machine.\n",
      "\n",
      "SAS process has terminated unexpectedly. RC from wait was: 4294967290\n"
     ]
    },
    {
     "ename": "SASIOConnectionTerminated",
     "evalue": "No SAS process attached. SAS process has terminated unexpectedly.\n<class 'Exception'>",
     "output_type": "error",
     "traceback": [
      "\u001b[1;31m---------------------------------------------------------------------------\u001b[0m",
      "\u001b[1;31mSASIOConnectionTerminated\u001b[0m                 Traceback (most recent call last)",
      "Cell \u001b[1;32mIn[1], line 4\u001b[0m\n\u001b[0;32m      1\u001b[0m \u001b[38;5;28;01mimport\u001b[39;00m \u001b[38;5;21;01msaspy\u001b[39;00m\n\u001b[0;32m      3\u001b[0m \u001b[38;5;66;03m# Connect to SAS using the default configuration\u001b[39;00m\n\u001b[1;32m----> 4\u001b[0m sas \u001b[38;5;241m=\u001b[39m \u001b[43msaspy\u001b[49m\u001b[38;5;241;43m.\u001b[39;49m\u001b[43mSASsession\u001b[49m\u001b[43m(\u001b[49m\u001b[43mcfgname\u001b[49m\u001b[38;5;241;43m=\u001b[39;49m\u001b[38;5;124;43m'\u001b[39;49m\u001b[38;5;124;43mwiniomwin\u001b[39;49m\u001b[38;5;124;43m'\u001b[39;49m\u001b[43m)\u001b[49m\n\u001b[0;32m      6\u001b[0m \u001b[38;5;66;03m# Run a SAS procedure, just to prove I'm connected\u001b[39;00m\n\u001b[0;32m      7\u001b[0m sas_code \u001b[38;5;241m=\u001b[39m \u001b[38;5;124m\"\"\"\u001b[39m\n\u001b[0;32m      8\u001b[0m \u001b[38;5;124mproc print data=sashelp.class;\u001b[39m\n\u001b[0;32m      9\u001b[0m \u001b[38;5;124mrun;\u001b[39m\n\u001b[0;32m     10\u001b[0m \u001b[38;5;124m\"\"\"\u001b[39m\n",
      "File \u001b[1;32m~\\dev\\GIS-Utilities\\src\\arcgis pro\\sas\\sas_env\\Lib\\site-packages\\saspy\\sasbase.py:594\u001b[0m, in \u001b[0;36mSASsession.__init__\u001b[1;34m(self, **kwargs)\u001b[0m\n\u001b[0;32m    592\u001b[0m         \u001b[38;5;28;01mraise\u001b[39;00m SASIONotSupportedError(\u001b[38;5;28mself\u001b[39m\u001b[38;5;241m.\u001b[39msascfg\u001b[38;5;241m.\u001b[39mmode, alts\u001b[38;5;241m=\u001b[39m[\u001b[38;5;124m'\u001b[39m\u001b[38;5;124mIOM\u001b[39m\u001b[38;5;124m'\u001b[39m])\n\u001b[0;32m    593\u001b[0m \u001b[38;5;28;01melif\u001b[39;00m \u001b[38;5;28mself\u001b[39m\u001b[38;5;241m.\u001b[39msascfg\u001b[38;5;241m.\u001b[39mmode \u001b[38;5;241m==\u001b[39m \u001b[38;5;124m'\u001b[39m\u001b[38;5;124mIOM\u001b[39m\u001b[38;5;124m'\u001b[39m:\n\u001b[1;32m--> 594\u001b[0m     \u001b[38;5;28mself\u001b[39m\u001b[38;5;241m.\u001b[39m_io \u001b[38;5;241m=\u001b[39m \u001b[43mSASsessionIOM\u001b[49m\u001b[43m(\u001b[49m\u001b[43msascfgname\u001b[49m\u001b[38;5;241;43m=\u001b[39;49m\u001b[38;5;28;43mself\u001b[39;49m\u001b[38;5;241;43m.\u001b[39;49m\u001b[43msascfg\u001b[49m\u001b[38;5;241;43m.\u001b[39;49m\u001b[43mname\u001b[49m\u001b[43m,\u001b[49m\u001b[43m \u001b[49m\u001b[43msb\u001b[49m\u001b[38;5;241;43m=\u001b[39;49m\u001b[38;5;28;43mself\u001b[39;49m\u001b[43m,\u001b[49m\u001b[43m \u001b[49m\u001b[38;5;241;43m*\u001b[39;49m\u001b[38;5;241;43m*\u001b[39;49m\u001b[43mkwargs\u001b[49m\u001b[43m)\u001b[49m\n\u001b[0;32m    595\u001b[0m \u001b[38;5;28;01melif\u001b[39;00m \u001b[38;5;28mself\u001b[39m\u001b[38;5;241m.\u001b[39msascfg\u001b[38;5;241m.\u001b[39mmode \u001b[38;5;241m==\u001b[39m \u001b[38;5;124m'\u001b[39m\u001b[38;5;124mCOM\u001b[39m\u001b[38;5;124m'\u001b[39m:\n\u001b[0;32m    596\u001b[0m     \u001b[38;5;28mself\u001b[39m\u001b[38;5;241m.\u001b[39m_io \u001b[38;5;241m=\u001b[39m SASSessionCOM(sascfgname\u001b[38;5;241m=\u001b[39m\u001b[38;5;28mself\u001b[39m\u001b[38;5;241m.\u001b[39msascfg\u001b[38;5;241m.\u001b[39mname, sb\u001b[38;5;241m=\u001b[39m\u001b[38;5;28mself\u001b[39m, \u001b[38;5;241m*\u001b[39m\u001b[38;5;241m*\u001b[39mkwargs)\n",
      "File \u001b[1;32m~\\dev\\GIS-Utilities\\src\\arcgis pro\\sas\\sas_env\\Lib\\site-packages\\saspy\\sasioiom.py:317\u001b[0m, in \u001b[0;36mSASsessionIOM.__init__\u001b[1;34m(self, **kwargs)\u001b[0m\n\u001b[0;32m    314\u001b[0m \u001b[38;5;28mself\u001b[39m\u001b[38;5;241m.\u001b[39m_tomods1 \u001b[38;5;241m=\u001b[39m \u001b[38;5;124mb\u001b[39m\u001b[38;5;124m\"\u001b[39m\u001b[38;5;124m_tomods1\u001b[39m\u001b[38;5;124m\"\u001b[39m\n\u001b[0;32m    315\u001b[0m \u001b[38;5;28mself\u001b[39m\u001b[38;5;241m.\u001b[39msascfg   \u001b[38;5;241m=\u001b[39m SASconfigIOM(\u001b[38;5;28mself\u001b[39m, \u001b[38;5;241m*\u001b[39m\u001b[38;5;241m*\u001b[39mkwargs)\n\u001b[1;32m--> 317\u001b[0m \u001b[38;5;28;43mself\u001b[39;49m\u001b[38;5;241;43m.\u001b[39;49m\u001b[43m_startsas\u001b[49m\u001b[43m(\u001b[49m\u001b[43m)\u001b[49m\n\u001b[0;32m    318\u001b[0m \u001b[38;5;28mself\u001b[39m\u001b[38;5;241m.\u001b[39m_sb\u001b[38;5;241m.\u001b[39mreconuri \u001b[38;5;241m=\u001b[39m \u001b[38;5;28;01mNone\u001b[39;00m\n",
      "File \u001b[1;32m~\\dev\\GIS-Utilities\\src\\arcgis pro\\sas\\sas_env\\Lib\\site-packages\\saspy\\sasioiom.py:582\u001b[0m, in \u001b[0;36mSASsessionIOM._startsas\u001b[1;34m(self)\u001b[0m\n\u001b[0;32m    580\u001b[0m \u001b[38;5;28;01mif\u001b[39;00m enc \u001b[38;5;241m==\u001b[39m \u001b[38;5;124m'\u001b[39m\u001b[38;5;124m'\u001b[39m:\n\u001b[0;32m    581\u001b[0m    \u001b[38;5;28mself\u001b[39m\u001b[38;5;241m.\u001b[39msascfg\u001b[38;5;241m.\u001b[39mencoding \u001b[38;5;241m=\u001b[39m \u001b[38;5;124m'\u001b[39m\u001b[38;5;124mutf-8\u001b[39m\u001b[38;5;124m'\u001b[39m\n\u001b[1;32m--> 582\u001b[0m ll \u001b[38;5;241m=\u001b[39m \u001b[38;5;28;43mself\u001b[39;49m\u001b[38;5;241;43m.\u001b[39;49m\u001b[43msubmit\u001b[49m\u001b[43m(\u001b[49m\u001b[38;5;124;43m\"\u001b[39;49m\u001b[38;5;124;43moptions svgtitle=\u001b[39;49m\u001b[38;5;124;43m'\u001b[39;49m\u001b[38;5;124;43msvgtitle\u001b[39;49m\u001b[38;5;124;43m'\u001b[39;49m\u001b[38;5;124;43m; options validvarname=any validmemname=extend pagesize=max nosyntaxcheck; ods graphics on;\u001b[39;49m\u001b[38;5;124;43m\"\u001b[39;49m\u001b[43m,\u001b[49m\u001b[43m \u001b[49m\u001b[38;5;124;43m\"\u001b[39;49m\u001b[38;5;124;43mtext\u001b[39;49m\u001b[38;5;124;43m\"\u001b[39;49m\u001b[43m)\u001b[49m\n\u001b[0;32m    583\u001b[0m \u001b[38;5;28mself\u001b[39m\u001b[38;5;241m.\u001b[39msascfg\u001b[38;5;241m.\u001b[39mencoding \u001b[38;5;241m=\u001b[39m enc\n\u001b[0;32m    585\u001b[0m \u001b[38;5;28;01mif\u001b[39;00m \u001b[38;5;28mself\u001b[39m\u001b[38;5;241m.\u001b[39mpid \u001b[38;5;129;01mis\u001b[39;00m \u001b[38;5;28;01mNone\u001b[39;00m:\n",
      "File \u001b[1;32m~\\dev\\GIS-Utilities\\src\\arcgis pro\\sas\\sas_env\\Lib\\site-packages\\saspy\\sasioiom.py:988\u001b[0m, in \u001b[0;36mSASsessionIOM.submit\u001b[1;34m(self, code, results, prompt, **kwargs)\u001b[0m\n\u001b[0;32m    986\u001b[0m    \u001b[38;5;66;03m#return dict(LOG=log.decode(errors='replace'), LST='')\u001b[39;00m\n\u001b[0;32m    987\u001b[0m    logger\u001b[38;5;241m.\u001b[39mfatal(log\u001b[38;5;241m.\u001b[39mdecode(errors\u001b[38;5;241m=\u001b[39m\u001b[38;5;124m'\u001b[39m\u001b[38;5;124mreplace\u001b[39m\u001b[38;5;124m'\u001b[39m))\n\u001b[1;32m--> 988\u001b[0m    \u001b[38;5;28;01mraise\u001b[39;00m SASIOConnectionTerminated(\u001b[38;5;167;01mException\u001b[39;00m)\n\u001b[0;32m    989\u001b[0m \u001b[38;5;28;01mexcept\u001b[39;00m subprocess\u001b[38;5;241m.\u001b[39mTimeoutExpired:\n\u001b[0;32m    990\u001b[0m    \u001b[38;5;28;01mpass\u001b[39;00m\n",
      "\u001b[1;31mSASIOConnectionTerminated\u001b[0m: No SAS process attached. SAS process has terminated unexpectedly.\n<class 'Exception'>"
     ]
    }
   ],
   "source": [
    "import saspy\n",
    "\n",
    "# Connect to SAS using the default configuration\n",
    "sas = saspy.SASsession(cfgname='winiomwin')\n",
    "\n",
    "# Run a SAS procedure, just to prove I'm connected\n",
    "sas_code = \"\"\"\n",
    "proc print data=sashelp.class;\n",
    "run;\n",
    "\"\"\"\n",
    "sas.submit(sas_code)"
   ]
  }
 ],
 "metadata": {
  "kernelspec": {
   "display_name": "Python 3 (ipykernel)",
   "language": "python",
   "name": "python3"
  },
  "language_info": {
   "codemirror_mode": {
    "name": "ipython",
    "version": 3
   },
   "file_extension": ".py",
   "mimetype": "text/x-python",
   "name": "python",
   "nbconvert_exporter": "python",
   "pygments_lexer": "ipython3",
   "version": "3.12.3"
  }
 },
 "nbformat": 4,
 "nbformat_minor": 5
}
