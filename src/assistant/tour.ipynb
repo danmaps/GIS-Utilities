{
 "cells": [
  {
   "cell_type": "markdown",
   "metadata": {},
   "source": [
    "With access to the current open map through `aprx.activeView` we can do all kinds of fun things like:\n",
    "* access the underlying map object\n",
    "* change the camera"
   ]
  },
  {
   "cell_type": "code",
   "execution_count": 15,
   "metadata": {},
   "outputs": [],
   "source": [
    "import time\n",
    "import ipywidgets as widgets"
   ]
  },
  {
   "cell_type": "code",
   "execution_count": 16,
   "metadata": {},
   "outputs": [
    {
     "name": "stdout",
     "output_type": "stream",
     "text": [
      "<class 'arcpy._mp.MapView'>\n"
     ]
    }
   ],
   "source": [
    "aprx = arcpy.mp.ArcGISProject(\"CURRENT\")\n",
    "mv = aprx.activeView # mapview\n",
    "print(type(mv))\n",
    "try:\n",
    "    m = mv.map # map\n",
    "except(AttributeError):\n",
    "    print(\"No map found. Open a map alongside this notebook.\")\n"
   ]
  },
  {
   "cell_type": "code",
   "execution_count": 17,
   "metadata": {},
   "outputs": [],
   "source": [
    "# function for moving the camera to chosen number of features\n",
    "# in the chosen layer, with optional labels!\n",
    "\n",
    "def tour(my_layer,n,labels):\n",
    "    my_layer = m.listLayers(my_layer)[0]\n",
    "    desc = arcpy.Describe(my_layer)\n",
    "    oid_field = desc.OIDFieldName\n",
    "    if labels:\n",
    "        my_layer.showLabels = True\n",
    "    for i in range(n):\n",
    "        arcpy.SelectLayerByAttribute_management(my_layer.name,\n",
    "                                                \"NEW_SELECTION\", \n",
    "                                                oid_field+\"=\"+str(i+1))\n",
    "        # getLayerExtent honors selection by default\n",
    "        mv.camera.setExtent(mv.getLayerExtent(my_layer))\n",
    "        if desc.shapeType == \"Point\":\n",
    "            mv.camera.scale=300000\n",
    "        time.sleep(1)\n",
    "\n",
    "    # remove selection\n",
    "    my_layer.setSelectionSet()\n",
    "    if labels:    # turn off labels\n",
    "        my_layer.showLabels = False\n",
    "    # zoom to full extent\n",
    "    mv.camera.setExtent(mv.getLayerExtent(my_layer))\n",
    "    \n",
    "# tour(\"BusStops\",5,False)"
   ]
  },
  {
   "cell_type": "markdown",
   "metadata": {},
   "source": [
    "ipywidgets can be interactive and linked to each other."
   ]
  },
  {
   "cell_type": "code",
   "execution_count": 18,
   "metadata": {},
   "outputs": [
    {
     "name": "stdout",
     "output_type": "stream",
     "text": [
      "California Coastline Tour\n"
     ]
    },
    {
     "data": {
      "application/vnd.jupyter.widget-view+json": {
       "model_id": "19553311a4564856a20976b560765f78",
       "version_major": 2,
       "version_minor": 0
      },
      "text/plain": [
       "VBox(children=(Dropdown(options=('important_landmarks_in_sweden', 'CA Coastline', 'outline_of_mexico', 'outlin…"
      ]
     },
     "metadata": {},
     "output_type": "display_data"
    }
   ],
   "source": [
    "mv = aprx.activeView # mapview\n",
    "\n",
    "\n",
    "\n",
    "try:\n",
    "    m = mv.map # map\n",
    "    print(f\"{m.name} Tour\")\n",
    "except(AttributeError):\n",
    "    sys.exit(\"No map found. Open a map alongside this notebook.\")\n",
    "    \n",
    "valid_layers=len([l.name for l in m.listLayers(\"*\") if arcpy.Describe(l).dataElement])\n",
    "\n",
    "if valid_layers<1:\n",
    "    sys.exit(\"No valid layers, feature layer required for tour.\")\n",
    "\n",
    "layer_menu = widgets.Dropdown(options=[l.name for l in m.listLayers(\"*\") if arcpy.Describe(l).dataElement]\n",
    "                             , )#value=None)\n",
    "\n",
    "slider = widgets.IntSlider(value=5,min=1,max=10)\n",
    "\n",
    "labels = widgets.ToggleButton(\n",
    "    value=True,\n",
    "    description='Labels',\n",
    "    disabled=False)\n",
    "\n",
    "# create button to call the function\n",
    "button = widgets.Button(icon='play')\n",
    "button.on_click(lambda x: tour(layer_menu.value,slider.value,labels.value))\n",
    "\n",
    "# link slider with dropdown so it shows the correct count\n",
    "widgets.dlink((layer_menu,\"value\"),(slider,\"max\"),\n",
    "                      lambda x:int(arcpy.GetCount_management(layer_menu.value)[0]))\n",
    "\n",
    "# display all widgets\n",
    "widgets.VBox([layer_menu,slider,labels,button])\n",
    "\n"
   ]
  },
  {
   "cell_type": "code",
   "execution_count": null,
   "metadata": {},
   "outputs": [],
   "source": []
  }
 ],
 "metadata": {
  "hide_input": false,
  "kernelspec": {
   "display_name": "ArcGISPro",
   "language": "Python",
   "name": "python3"
  },
  "language_info": {
   "file_extension": ".py",
   "name": "python",
   "version": "3"
  }
 },
 "nbformat": 4,
 "nbformat_minor": 2
}
