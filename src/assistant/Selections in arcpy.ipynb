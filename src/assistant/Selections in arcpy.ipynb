{
 "cells": [
  {
   "cell_type": "code",
   "execution_count": 3,
   "metadata": {},
   "outputs": [
    {
     "name": "stdout",
     "output_type": "stream",
     "text": [
      "707\n"
     ]
    }
   ],
   "source": [
    "def count_selected_features(layer):\n",
    "    # Check if there is a selection\n",
    "    if arcpy.Describe(layer).FIDSet:\n",
    "        # Count the selected features\n",
    "        result = arcpy.GetCount_management(layer)\n",
    "        count = int(result.getOutput(0))\n",
    "    else:\n",
    "        # No selection, return 0\n",
    "        count = 0\n",
    "\n",
    "    return count\n",
    "\n",
    "# Usage\n",
    "layer = \"SCE_Vegetation_Test\"\n",
    "print(count_total_features(layer))"
   ]
  },
  {
   "cell_type": "code",
   "execution_count": 8,
   "metadata": {},
   "outputs": [
    {
     "name": "stdout",
     "output_type": "stream",
     "text": [
      "49671\n"
     ]
    }
   ],
   "source": [
    "def count_total_features(layer):\n",
    "    # Get the data source of the original layer\n",
    "    desc = arcpy.Describe(layer)\n",
    "    data_source = desc.path + \"\\\\\" + desc.baseName\n",
    "\n",
    "    # Create a new layer from the data source\n",
    "    arcpy.MakeFeatureLayer_management(data_source, \"new_layer2\")\n",
    "\n",
    "    # Count the total features in the new layer\n",
    "    result = arcpy.GetCount_management(\"new_layer2\")\n",
    "    count = int(result.getOutput(0))\n",
    "    \n",
    "    # Delete the new layer\n",
    "    arcpy.Delete_management(\"new_layer\")\n",
    "    \n",
    "    return count\n",
    "\n",
    "\n",
    "# Usage\n",
    "layer = \"SCE_Vegetation_Test\"\n",
    "print(count_total_features(layer))"
   ]
  }
 ],
 "metadata": {
  "kernelspec": {
   "display_name": "ArcGISPro",
   "language": "Python",
   "name": "python3"
  },
  "language_info": {
   "file_extension": ".py",
   "name": "python",
   "version": "3"
  }
 },
 "nbformat": 4,
 "nbformat_minor": 2
}
